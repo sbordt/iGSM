{
 "cells": [
  {
   "cell_type": "markdown",
   "metadata": {},
   "source": [
    "*Copyright (c) Meta Platforms, Inc. and affiliates. This source code is licensed under the license found in the LICENSE file in the root directory of this source tree.*"
   ]
  },
  {
   "cell_type": "markdown",
   "metadata": {},
   "source": [
    "## TL;DR"
   ]
  },
  {
   "cell_type": "code",
   "execution_count": null,
   "metadata": {},
   "outputs": [],
   "source": [
    "from data_gen.pretrain.id_gen import IdGen\n",
    "from tools.tools import tokenizer, fix_seed\n",
    "from typing import Literal\n",
    "\n",
    "def get_prob_sol_ans_triple(tpy: Literal[\"easy\", \"med\", \"hard\"]):\n",
    "    assert tpy in [\"easy\", \"med\", \"hard\"], \"Invalid type: Choose 'med' or 'hard'\"\n",
    "    # Set parameters based on difficulty\n",
    "    max_op = 15 if tpy == \"med\" else 21\n",
    "    max_edge = 20 if tpy == \"med\" else 28\n",
    "    if tpy == \"easy\":\n",
    "        max_op = 10\n",
    "        max_edge = 15\n",
    "\n",
    "    id_gen = IdGen(\n",
    "        max_op=max_op,        # Maximum # of operations\n",
    "        max_edge=max_edge,    # Maximum # of edges (instance parameters) in the structure graph\n",
    "        perm_level=4,         # Random shuffle level for problem description\n",
    "        detail_level=0        # Most detailed solution format\n",
    "    )\n",
    "\n",
    "    id_gen.gen_prob([i for i in range(23)], p_format=\"pq\")\n",
    "\n",
    "    return id_gen\n",
    "\n",
    "# generate 10 000 easy problems and sort them\n",
    "fix_seed(41)\n",
    "for i in range(10):\n",
    "    try:\n",
    "        id_gen = get_prob_sol_ans_triple(\"easy\")\n",
    "        print(f\"\\n\\nProblem {i}:\")\n",
    "        print(tokenizer.decode(id_gen.prob_token))\n",
    "        print(f\"Solution:\")\n",
    "        print(tokenizer.decode(id_gen.sol_token))\n",
    "        print(f\"Answer:\")\n",
    "        print(tokenizer.decode(id_gen.ans_token))\n",
    "        print(\"OP: \", id_gen.op_)\n",
    "    except Exception as e:\n",
    "        print(f\"Error generating problem {i}: {e}\")"
   ]
  },
  {
   "cell_type": "code",
   "execution_count": null,
   "metadata": {},
   "outputs": [],
   "source": [
    "# generate 10 000 easy problems and sort them by the length of the solution\n",
    "from tqdm import tqdm\n",
    "\n",
    "test_problems = {i: [] for i in range(15)}\n",
    "fix_seed(41)\n",
    "for i in tqdm(range(10000)):\n",
    "    id_gen = get_prob_sol_ans_triple(\"easy\")\n",
    "    test_problems[id_gen.op_].append(id_gen)"
   ]
  },
  {
   "cell_type": "code",
   "execution_count": null,
   "metadata": {},
   "outputs": [],
   "source": [
    "few_shot_problems = {i: [] for i in range(15)}\n",
    "fix_seed(42)\n",
    "for i in tqdm(range(10000)):\n",
    "    id_gen = get_prob_sol_ans_triple(\"easy\")\n",
    "    if id_gen.op_ > 5:\n",
    "        continue\n",
    "    few_shot_problems[id_gen.op_].append(id_gen)"
   ]
  },
  {
   "cell_type": "code",
   "execution_count": null,
   "metadata": {},
   "outputs": [],
   "source": [
    "train_problems = {i: [] for i in range(15)}\n",
    "fix_seed(42)\n",
    "for i in tqdm(range(10000)):\n",
    "    id_gen = get_prob_sol_ans_triple(\"easy\")\n",
    "    if id_gen.op_ > 5:\n",
    "        continue\n",
    "    train_problems[id_gen.op_].append(id_gen)"
   ]
  },
  {
   "cell_type": "code",
   "execution_count": null,
   "metadata": {},
   "outputs": [],
   "source": []
  },
  {
   "cell_type": "code",
   "execution_count": null,
   "metadata": {},
   "outputs": [],
   "source": [
    "train_text = f\"\"\"Consider the following high school-level math problem where all numbers are integers with arithmetic modulo 23.\n",
    "Problem: {tokenizer.decode(id_gen.prob_token)}  \n",
    "Solution: {tokenizer.decode(id_gen.sol_token)}\n",
    "Answer: {tokenizer.decode(id_gen.ans_token).strip()}\n",
    "\"\"\"\n",
    "\n",
    "print(train_text)"
   ]
  },
  {
   "cell_type": "code",
   "execution_count": null,
   "metadata": {},
   "outputs": [],
   "source": [
    "import numpy as np\n",
    "\n",
    "id_gen = test_problems[1][0]  # Example problem for testing\n",
    "\n",
    "op = id_gen.op_\n",
    "num_few_shot = 5\n",
    "few_shot_problems = np.random.choice(few_shot_problems[op], num_few_shot, replace=False)\n",
    "\n",
    "test_text = f\"\"\"Consider the following high school-level math problems where all numbers are integers with arithmetic modulo 23.\n",
    "\"\"\"\n",
    "\n",
    "for i, few_shot in enumerate(few_shot_problems):\n",
    "    test_text += f\"\"\"\n",
    "Problem {i + 1}: {tokenizer.decode(few_shot.prob_token)}\n",
    "Solution: {tokenizer.decode(few_shot.sol_token)}\n",
    "Answer: {tokenizer.decode(few_shot.ans_token).strip()}\n",
    "\"\"\"\n",
    "\n",
    "test_text += f\"\"\"\n",
    "Problem {num_few_shot+1}: {tokenizer.decode(id_gen.prob_token)}\n",
    "Solution:\"\"\"\n",
    "\n",
    "print(test_text)"
   ]
  },
  {
   "cell_type": "code",
   "execution_count": null,
   "metadata": {},
   "outputs": [],
   "source": []
  },
  {
   "cell_type": "code",
   "execution_count": null,
   "metadata": {},
   "outputs": [],
   "source": [
    "3 * 23 * 23"
   ]
  },
  {
   "cell_type": "code",
   "execution_count": null,
   "metadata": {},
   "outputs": [],
   "source": [
    "from mod23benchmark import Mod23BenchmarkGenerator\n",
    "\n",
    "generator = Mod23BenchmarkGenerator(seed=42)\n",
    "\n",
    "generator.save_jsonl_file(\"mod23bench_n=2.jsonl\", count=500, n=2)\n",
    "generator.save_jsonl_file(\"mod23bench_n=3.jsonl\", count=500, n=3)"
   ]
  },
  {
   "cell_type": "code",
   "execution_count": null,
   "metadata": {},
   "outputs": [],
   "source": [
    "500 / 23"
   ]
  },
  {
   "cell_type": "code",
   "execution_count": null,
   "metadata": {},
   "outputs": [],
   "source": [
    "Consider the following high school-level math problem where all numbers are integers with arithmetic modulo 23. \n",
    "\n",
    "\n"
   ]
  },
  {
   "cell_type": "code",
   "execution_count": null,
   "metadata": {},
   "outputs": [],
   "source": [
    "from math_gen.problem_gen import auto_easy\n",
    "\n",
    "auto_easy()"
   ]
  },
  {
   "cell_type": "markdown",
   "metadata": {},
   "source": [
    "## Introduction"
   ]
  },
  {
   "cell_type": "code",
   "execution_count": null,
   "metadata": {},
   "outputs": [],
   "source": [
    "from data_gen.pretrain.id_gen import IdGen\n",
    "from tools.tools import fix_seed\n",
    "\n",
    "fix_seed(42)  # Ensures reproducibility\n",
    "\n",
    "# Initialize IdGen with specific parameters\n",
    "id_gen = IdGen(\n",
    "    max_op=15,            # Maximum operations\n",
    "    max_edge=20,          # Maximum edges in the Structure Graph\n",
    "    perm_level=5,         # Level of randomization in problem description. 5 represents random shuffle\n",
    "    detail_level=0        # Level of detail in the solution. 0 represents the most detailed solution format\n",
    ")\n",
    "\n",
    "# Generate a problem and format it\n",
    "id_gen.gen_prob([i for i in range(23)], p_format=\"pq\")"
   ]
  },
  {
   "cell_type": "code",
   "execution_count": null,
   "metadata": {},
   "outputs": [],
   "source": [
    "prob_id = id_gen.prob_token  # Problem's token IDs\n",
    "sol_id = id_gen.sol_token    # Solution's token IDs\n",
    "ans_id = id_gen.ans_token    # One-number answer's token IDs"
   ]
  },
  {
   "cell_type": "code",
   "execution_count": null,
   "metadata": {},
   "outputs": [],
   "source": [
    "from tools.tools import tokenizer\n",
    "print(\"Problem:\")\n",
    "print(tokenizer.decode(prob_id))\n",
    "print(\"Solution:\")\n",
    "print(tokenizer.decode(sol_id))\n",
    "print(\"Answer:\")\n",
    "print(tokenizer.decode(ans_id))"
   ]
  },
  {
   "cell_type": "code",
   "execution_count": null,
   "metadata": {},
   "outputs": [],
   "source": [
    "assert id_gen.token_id == [222] + prob_id + [223] + sol_id + [224] + ans_id + [50256]"
   ]
  },
  {
   "cell_type": "code",
   "execution_count": null,
   "metadata": {},
   "outputs": [],
   "source": [
    "from tools.tools_test import true_correct\n",
    "\n",
    "# Example of a solution string\n",
    "wrong_sol = \" Define Penguin Beach's Giraffe as t; so t = 6. Define Octopus Den's Leopard as r; so r = t = 6. Define Penguin Beach's Animal as J; so J = t = 6.\"\n",
    "\n",
    "# Validate the solution\n",
    "correct, my_print, parser = true_correct(wrong_sol, id_gen.problem)\n",
    "print(f\"Correct or not: {correct}\")\n",
    "my_print.display()"
   ]
  },
  {
   "cell_type": "code",
   "execution_count": null,
   "metadata": {},
   "outputs": [],
   "source": [
    "id_gen.problem.draw()"
   ]
  }
 ],
 "metadata": {
  "kernelspec": {
   "display_name": "olmo-2",
   "language": "python",
   "name": "python3"
  },
  "language_info": {
   "codemirror_mode": {
    "name": "ipython",
    "version": 3
   },
   "file_extension": ".py",
   "mimetype": "text/x-python",
   "name": "python",
   "nbconvert_exporter": "python",
   "pygments_lexer": "ipython3",
   "version": "3.12.11"
  }
 },
 "nbformat": 4,
 "nbformat_minor": 2
}
