{
 "cells": [
  {
   "cell_type": "markdown",
   "metadata": {},
   "source": [
    "*Copyright (c) Meta Platforms, Inc. and affiliates. This source code is licensed under the license found in the LICENSE file in the root directory of this source tree.*\n",
    "\n",
    "This notebook includes the even simpler code for generating the \"box-over-box\" data as presented in Figure 1 of our **Part 2.2** paper (https://arxiv.org/pdf/2408.16293v1). It provides an even simpler math problem set which requires topological sort (just like iGSM) but has maximally removed the surrounding English. As one can see from our Part 2.2 paper, even GPT-4o can fail on such data and cannot correct its own mistakes."
   ]
  },
  {
   "cell_type": "code",
   "execution_count": null,
   "metadata": {},
   "outputs": [],
   "source": [
    "import random\n",
    "import string\n",
    "import networkx as nx\n",
    "\n",
    "def generate_random_dag(n):\n",
    "    # Create an empty directed graph\n",
    "    dag = nx.DiGraph()\n",
    "    \n",
    "    # Add nodes to the graph\n",
    "    dag.add_nodes_from(range(n))\n",
    "    \n",
    "    # Iterate over each node\n",
    "    for node in range(n):\n",
    "        # Generate a list of possible nodes it can connect to\n",
    "        possible_targets = range(node + 1, n)\n",
    "        \n",
    "        # Randomly select up to 4 nodes from the possible targets\n",
    "        mmax = min(4, len(possible_targets))\n",
    "        if mmax==0:\n",
    "            targets = []\n",
    "        else:\n",
    "            targets = random.sample(possible_targets, random.randint(1, mmax))\n",
    "        \n",
    "        # Add edges from the current node to the selected targets\n",
    "        dag.add_edges_from([(node, target) for target in targets])\n",
    "    \n",
    "    return dag\n"
   ]
  },
  {
   "cell_type": "code",
   "execution_count": null,
   "metadata": {},
   "outputs": [],
   "source": [
    "\n",
    "# Parameters\n",
    "N = 26  # Number of nodes\n",
    "\n",
    "# Generate a random DAG\n",
    "dag = generate_random_dag(N)\n",
    "\n",
    "#node_names = random.sample(string.ascii_letters, N)\n",
    "node_names = random.sample(string.ascii_uppercase, N)\n",
    "node_values = [random.randint(0, 9) for _ in range(N)]\n",
    "\n",
    "node_total = [0]*N\n",
    "for node in reversed(list(dag.nodes())):\n",
    "    successors = list(dag.successors(node))\n",
    "    node_total[node] = node_values[node]\n",
    "    for suc in successors:\n",
    "        node_total[node] += node_total[suc]\n",
    "\n",
    "all_s = []\n",
    "for node in reversed(list(dag.nodes())):\n",
    "    successors = list(dag.successors(node))\n",
    "    all_s += [f\"Each box {node_names[node]} weights {node_values[node]} pounds on its own. \"]\n",
    "    for suc in successors:\n",
    "        all_s += [f\"Each box {node_names[node]} has a box {node_names[suc]} inside it. \"]\n",
    "random.shuffle(all_s)\n",
    "print()\n",
    "print(\"\".join(all_s))\n",
    "print()\n",
    "print(f\"What is the total weight of box {node_names[0]}?\")\n",
    "print(f\"Answer = {node_total[0]}\")\n",
    "\n",
    "for node in dag.nodes():\n",
    "    successors = list(dag.successors(node))\n",
    "    #print(f\"Node {node}: {', '.join(map(str, successors)) if successors else 'No successors'}\")\n",
    "    print(f\"Node {node}/{node_names[node]}/{node_total[node]}: \", end='')\n",
    "    for suc in successors:\n",
    "        print(f\"{suc}/{node_names[suc]}, \", end='')\n",
    "        #{', '.join(map(str, successors)) if successors else 'No successors'}\")\n",
    "    print()\n",
    "\n",
    "print(node_total)"
   ]
  }
 ],
 "metadata": {
  "kernelspec": {
   "display_name": "zeyuan_env",
   "language": "python",
   "name": "python3"
  },
  "language_info": {
   "codemirror_mode": {
    "name": "ipython",
    "version": 3
   },
   "file_extension": ".py",
   "mimetype": "text/x-python",
   "name": "python",
   "nbconvert_exporter": "python",
   "pygments_lexer": "ipython3",
   "version": "3.9.16"
  }
 },
 "nbformat": 4,
 "nbformat_minor": 2
}
