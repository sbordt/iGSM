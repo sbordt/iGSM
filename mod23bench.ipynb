{
 "cells": [
  {
   "cell_type": "code",
   "execution_count": 4,
   "id": "5e252d92",
   "metadata": {},
   "outputs": [
    {
     "name": "stdout",
     "output_type": "stream",
     "text": [
      "Generated 11500 question-answer pairs (500 questions × 23 answers) to 'mod23bench_n=2.jsonl'\n",
      "Questions requiring modulo operation: 284/500 (56.8%)\n",
      "Generated 11500 question-answer pairs (500 questions × 23 answers) to 'mod23bench_n=3.jsonl'\n",
      "Questions requiring modulo operation: 355/500 (71.0%)\n"
     ]
    }
   ],
   "source": [
    "from mod23benchmark import Mod23BenchmarkGenerator\n",
    "\n",
    "generator = Mod23BenchmarkGenerator(seed=42)\n",
    "\n",
    "generator.save_jsonl_file(\"mod23bench_n=2.jsonl\", count=500, n=2)\n",
    "generator.save_jsonl_file(\"mod23bench_n=3.jsonl\", count=500, n=3)"
   ]
  },
  {
   "cell_type": "code",
   "execution_count": 1,
   "id": "9aee7b2b",
   "metadata": {},
   "outputs": [
    {
     "name": "stdout",
     "output_type": "stream",
     "text": [
      "Generated 40000 question-answer pairs (10000 questions × 4 answers) to 'arithmeticbench_n=2.jsonl'\n",
      "Number range: 1-100\n",
      "Answer range: -98 to 9900\n",
      "Average answer: 901.8\n",
      "Generated 40000 question-answer pairs (10000 questions × 4 answers) to 'arithmeticbench_n=3.jsonl'\n",
      "Number range: 1-100\n",
      "Answer range: -9772 to 838080\n",
      "Average answer: 14939.2\n"
     ]
    }
   ],
   "source": [
    "from arithmeticbenchmark import ArithmeticBenchmarkGenerator\n",
    "\n",
    "arithmetic_generator = ArithmeticBenchmarkGenerator(seed=42)\n",
    "\n",
    "arithmetic_generator.save_jsonl_file(\"arithmeticbench_n=2.jsonl\", count=10000, n=2)\n",
    "arithmetic_generator.save_jsonl_file(\"arithmeticbench_n=3.jsonl\", count=10000, n=3)"
   ]
  },
  {
   "cell_type": "code",
   "execution_count": null,
   "id": "50d7c9e5",
   "metadata": {},
   "outputs": [],
   "source": []
  }
 ],
 "metadata": {
  "kernelspec": {
   "display_name": "olmo-2",
   "language": "python",
   "name": "python3"
  },
  "language_info": {
   "codemirror_mode": {
    "name": "ipython",
    "version": 3
   },
   "file_extension": ".py",
   "mimetype": "text/x-python",
   "name": "python",
   "nbconvert_exporter": "python",
   "pygments_lexer": "ipython3",
   "version": "3.12.9"
  }
 },
 "nbformat": 4,
 "nbformat_minor": 5
}
